{
 "cells": [
  {
   "cell_type": "markdown",
   "id": "db3fbcdb",
   "metadata": {},
   "source": [
    "# Blocking Program Examples\n",
    "\n",
    "In this example we will give multiple examples of blocking programs. \n",
    "\n",
    "To begin, we need to download three datasets from GitHub. Navigate to the dblp_acm folder [here](https://github.com/anhaidgroup/delex/tree/main/examples/data/dblp_acm). Click on 'gold.parquet' and click the download icon at the top. Repeat this for 'table_a.parquet' and 'table_b.parquet'. Now move all these into one directory on your local machine called 'dblp_acm'. Then, download this Python notebook [here](https://github.com/anhaidgroup/delex/tree/main/examples/data/program_examples.ipynb), and move it into the 'dblp_acm' folder you previously created.\n",
    "\n",
    "We will gloss over the setup in the initial cells since they are explained in the basic example notebook [here](./basic_example.ipynb)."
   ]
  },
  {
   "cell_type": "markdown",
   "id": "c98313b4",
   "metadata": {},
   "source": [
    "## Setup"
   ]
  },
  {
   "cell_type": "code",
   "execution_count": null,
   "id": "9e143869",
   "metadata": {},
   "outputs": [],
   "source": [
    "from pathlib import Path\n",
    "\n",
    "import sys\n",
    "sys.path.append(str(Path().resolve().parent))\n",
    "import os\n",
    "os.environ['PYTHONPATH'] = str(Path().resolve().parent)\n",
    "\n",
    "from pyspark import SparkConf\n",
    "from pyspark.sql import SparkSession\n",
    "import pyspark.sql.functions as F\n",
    "\n",
    "\n",
    "from delex.lang.predicate import (\n",
    "        BM25TopkPredicate,\n",
    "        JaccardPredicate,\n",
    "        EditDistancePredicate,\n",
    "        SmithWatermanPredicate,\n",
    "        JaroPredicate, \n",
    "        JaroWinklerPredicate, \n",
    "        CosinePredicate, \n",
    "        OverlapCoeffPredicate,\n",
    "        ExactMatchPredicate\n",
    ")\n",
    "\n",
    "from delex.lang import BlockingProgram, DropRule, KeepRule\n",
    "from delex.tokenizer import StrippedWhiteSpaceTokenizer, QGramTokenizer, AlphaNumericTokenizer\n",
    "from delex.execution.plan_executor import PlanExecutor\n",
    "import operator\n",
    "import psutil\n",
    "\n",
    "# enable pyarrow execution, recommended for better performance\n",
    "conf = SparkConf()\\\n",
    "        .set('spark.sql.execution.arrow.pyspark.enabled',  'true')\n",
    "\n",
    "# initialize a local spark context\n",
    "spark = SparkSession.builder\\\n",
    "                    .master('local[*]')\\\n",
    "                    .config(conf=conf)\\\n",
    "                    .appName('Basic Example')\\\n",
    "                    .getOrCreate()\n",
    "\n",
    "# path to the test data directory\n",
    "data_path = (Path().resolve() / 'data' / 'dblp_acm').absolute()\n",
    "\n",
    "# table to be indexed, generally this should be the table with fewer rows\n",
    "index_table_path = data_path / 'table_a.parquet'\n",
    "# table for searching\n",
    "search_table_path = data_path / 'table_b.parquet'\n",
    "# the ground truth, i.e. the correct matching pairs\n",
    "gold_path = data_path / 'gold.parquet'\n",
    "\n",
    "# read all the data as spark dataframes\n",
    "index_table = spark.read.parquet(f'file://{str(index_table_path)}')\n",
    "search_table = spark.read.parquet(f'file://{str(search_table_path)}')\n",
    "gold = spark.read.parquet(f'file://{str(gold_path)}')\n",
    "\n",
    "index_table.printSchema()"
   ]
  },
  {
   "cell_type": "code",
   "execution_count": null,
   "id": "e5e2ad41",
   "metadata": {},
   "outputs": [],
   "source": [
    "executor = PlanExecutor(\n",
    "        index_table=index_table, \n",
    "        search_table=search_table,\n",
    "        optimize=False,\n",
    "        estimate_cost=False,\n",
    ")\n",
    "\n",
    "# Function to compute and print basic stats\n",
    "def execute_and_compute_stats(prog):\n",
    "    candidates, _ = executor.execute(prog, ['_id'])\n",
    "    # unroll the output\n",
    "    pairs = candidates.select(\n",
    "                    F.explode('ids').alias('a_id'),\n",
    "                    F.col('_id').alias('b_id')\n",
    "                )\n",
    "    # total number \n",
    "    n_pairs = pairs.count()\n",
    "    true_positives = gold.intersect(pairs).count()\n",
    "    recall = true_positives / gold.count()\n",
    "    precision = true_positives / n_pairs if n_pairs else 0.0\n",
    "    f1_score = (2 * recall * precision) / (recall + precision) if  (recall + precision) > 0 else 0.0\n",
    "    print(f'n_pairs : {n_pairs}')\n",
    "    print(f'true_positives : {true_positives}')\n",
    "    print(f'recall : {recall}')\n",
    "    print(f'precision : {precision}')\n",
    "    print(f'F1 : {f1_score}')"
   ]
  },
  {
   "cell_type": "markdown",
   "id": "ac9a9a54",
   "metadata": {},
   "source": [
    "## Blocking Programs\n",
    "\n",
    "Below we give examples of blocking programs as well as providing some suggestions for tuning. We begin with the a simple blocking program.\n",
    "\n"
   ]
  },
  {
   "cell_type": "code",
   "execution_count": null,
   "id": "8da6704c",
   "metadata": {},
   "outputs": [],
   "source": [
    "prog = BlockingProgram(\n",
    "        keep_rules = [\n",
    "                KeepRule([\n",
    "                    JaccardPredicate('title', 'title', QGramTokenizer(3), operator.ge, .4)\n",
    "                ])\n",
    "            ],\n",
    "        drop_rules = [],\n",
    "    )\n",
    "\n",
    "execute_and_compute_stats(prog)"
   ]
  },
  {
   "cell_type": "markdown",
   "id": "cc59a892",
   "metadata": {},
   "source": [
    "In terms of SQL this program is equivalent to\n",
    "\n",
    "```SQL\n",
    "SELECT A.id, B.id\n",
    "FROM index_table as A, search_table as B\n",
    "WHERE jaccard_3gram(A.title, B.title) >= .4\n",
    "```\n",
    "\n",
    "We can see that this program has quite high recall but almost 50% of the output non-matching pairs. While this is fine in most cases since we typically run a matching algorithm afterwards which would filter the non-matching pairs out, we can certainly do better with just the blocking rules. What happens if we increase the threshold? "
   ]
  },
  {
   "cell_type": "code",
   "execution_count": null,
   "id": "a40440a6",
   "metadata": {},
   "outputs": [],
   "source": [
    "prog = BlockingProgram(             \n",
    "            keep_rules = [\n",
    "                KeepRule([\n",
    "                    JaccardPredicate('title', 'title', QGramTokenizer(3), operator.ge, .8)\n",
    "                ])\n",
    "            ],\n",
    "        drop_rules = [],\n",
    "    )\n",
    "execute_and_compute_stats(prog)"
   ]
  },
  {
   "cell_type": "markdown",
   "id": "7a4a2ff3",
   "metadata": {},
   "source": [
    "We can see that increasing the threshold dropped the recall by a few percent but improve the precision significantly. Of course, we can also increase precision by adding more predicates."
   ]
  },
  {
   "cell_type": "code",
   "execution_count": null,
   "id": "4989ad83",
   "metadata": {},
   "outputs": [],
   "source": [
    "prog = BlockingProgram(\n",
    "        keep_rules = [\n",
    "                KeepRule([ \n",
    "                    JaccardPredicate('title', 'title', QGramTokenizer(3), operator.ge, .4),\n",
    "                    CosinePredicate('authors', 'authors', AlphaNumericTokenizer(), operator.ge, .3)\n",
    "                ])\n",
    "            ],\n",
    "        drop_rules = [],\n",
    "    )\n",
    "\n",
    "execute_and_compute_stats(prog)"
   ]
  },
  {
   "cell_type": "markdown",
   "id": "dce9978e",
   "metadata": {},
   "source": [
    "By adding a simple predicate on the `authors` field, we can increase the precision with a much smaller drop in recall. We could also add a drop rule with a single predicate which is **almost** equivalent to the program above."
   ]
  },
  {
   "cell_type": "code",
   "execution_count": null,
   "id": "55766a48",
   "metadata": {},
   "outputs": [],
   "source": [
    "prog = BlockingProgram(\n",
    "        keep_rules = [\n",
    "                KeepRule([ \n",
    "                    JaccardPredicate('title', 'title', QGramTokenizer(3), operator.ge, .4)\n",
    "                ])\n",
    "            ],\n",
    "        drop_rules = [\n",
    "                DropRule([\n",
    "                    CosinePredicate('authors', 'authors', AlphaNumericTokenizer(), operator.lt, .3)\n",
    "                ])\n",
    "            ],\n",
    "    )\n",
    "\n",
    "execute_and_compute_stats(prog)"
   ]
  },
  {
   "cell_type": "markdown",
   "id": "bd660989",
   "metadata": {},
   "source": [
    "Notice that the outputs are slightly different? This is due to how nulls are handled. In particular, if either record field is `None` the comparison function always returns `np.nan` which in turn means the predicate always evaluates to `False`. In terms of sql the first program is equivalent to \n",
    "\n",
    "```SQL\n",
    "SELECT A.id, B.id\n",
    "FROM index_table as A, search_table as B\n",
    "WHERE jaccard_3gram(A.title, B.title) >= .4 AND cosine_alnum(A.authors, B.authors) >= .3\n",
    "```\n",
    "\n",
    "\n",
    "In contrast the second function is equivalent to,\n",
    "```SQL\n",
    "SELECT A.id, B.id\n",
    "FROM index_table as A, search_table as B\n",
    "WHERE (jaccard_3gram(A.title, B.title) >= .4\n",
    "EXCEPT \n",
    "SELECT A.id, B.id\n",
    "FROM index_table as A, search_table as B\n",
    "WHERE cosine_alnum(A.authors, B.authors) < .3\n",
    "```"
   ]
  },
  {
   "cell_type": "markdown",
   "id": "b1cf8a68",
   "metadata": {},
   "source": [
    "Switching back to improving precision, we can also improve precision by adding more predicates."
   ]
  },
  {
   "cell_type": "code",
   "execution_count": null,
   "id": "b6d741c7",
   "metadata": {},
   "outputs": [],
   "source": [
    "prog = BlockingProgram(\n",
    "        keep_rules = [\n",
    "                KeepRule([ \n",
    "                    JaccardPredicate('title', 'title', QGramTokenizer(3), operator.ge, .4),\n",
    "                    CosinePredicate('authors', 'authors', AlphaNumericTokenizer(), operator.ge, .3),\n",
    "                    ExactMatchPredicate('year', 'year', lowercase=True, invert=False),\n",
    "                ])\n",
    "            ],\n",
    "        drop_rules = [],\n",
    "    )\n",
    "\n",
    "execute_and_compute_stats(prog)"
   ]
  },
  {
   "cell_type": "markdown",
   "id": "20f141ed",
   "metadata": {},
   "source": [
    "Just be careful when adding predicates as a bad single predicate can be the difference between high precision + high recall and no output."
   ]
  },
  {
   "cell_type": "code",
   "execution_count": null,
   "id": "87c65a6c",
   "metadata": {},
   "outputs": [],
   "source": [
    "prog = BlockingProgram(\n",
    "        keep_rules = [\n",
    "                KeepRule([ \n",
    "                    JaccardPredicate('title', 'title', QGramTokenizer(3), operator.ge, .4),\n",
    "                    CosinePredicate('authors', 'authors', AlphaNumericTokenizer(), operator.ge, .3),\n",
    "                    ExactMatchPredicate('year', 'year', lowercase=True, invert=False),\n",
    "                    ExactMatchPredicate('venue', 'venue', lowercase=True, invert=False),\n",
    "\n",
    "                ])\n",
    "            ],\n",
    "        drop_rules = [],\n",
    "    )\n",
    "\n",
    "execute_and_compute_stats(prog)"
   ]
  },
  {
   "cell_type": "markdown",
   "id": "6c043ace",
   "metadata": {},
   "source": [
    "So far we have only looked at threshold based predicates and equality predicates. One very powerful type of predicate is top-k based predicates. BM25 based top-k is provided as a built in, (BM25 is common TFIDF-based ranking function used for full-text search). "
   ]
  },
  {
   "cell_type": "code",
   "execution_count": null,
   "id": "df8c9535",
   "metadata": {},
   "outputs": [],
   "source": [
    "prog = BlockingProgram(\n",
    "        keep_rules = [\n",
    "                KeepRule([\n",
    "                    BM25TopkPredicate('title', 'title', 'standard', 10)\n",
    "                ]),\n",
    "            ],\n",
    "        drop_rules = [\n",
    "        ],\n",
    "    )\n",
    "\n",
    "execute_and_compute_stats(prog)"
   ]
  },
  {
   "cell_type": "markdown",
   "id": "e49a8c45",
   "metadata": {},
   "source": [
    "As you can see we can get very high recall with just a single predicate. We can get the last few matching pairs by increasing k, "
   ]
  },
  {
   "cell_type": "code",
   "execution_count": null,
   "id": "c310e8ae",
   "metadata": {},
   "outputs": [],
   "source": [
    "prog = BlockingProgram(\n",
    "        keep_rules = [\n",
    "                KeepRule([\n",
    "                    BM25TopkPredicate('title', 'title', 'standard', 20)\n",
    "                ]),\n",
    "            ],\n",
    "        drop_rules = [\n",
    "        ],\n",
    "    )\n",
    "\n",
    "execute_and_compute_stats(prog)"
   ]
  },
  {
   "cell_type": "markdown",
   "id": "b9640d5a",
   "metadata": {},
   "source": [
    "Top-k predicates work the same as threshold or equality based, for example we can use two in a single keep rule."
   ]
  },
  {
   "cell_type": "code",
   "execution_count": null,
   "id": "54d97a12",
   "metadata": {},
   "outputs": [],
   "source": [
    "prog = BlockingProgram(\n",
    "        keep_rules = [\n",
    "                KeepRule([\n",
    "                    BM25TopkPredicate('title', 'title', 'standard', 20), \n",
    "                    BM25TopkPredicate('authors', 'authors', 'standard', 20), \n",
    "                ]),\n",
    "            ],\n",
    "        drop_rules = [\n",
    "        ],\n",
    "    )\n",
    "\n",
    "execute_and_compute_stats(prog)"
   ]
  },
  {
   "cell_type": "markdown",
   "id": "e9316c32",
   "metadata": {},
   "source": [
    "Of course we can also add drop rules to refine the output."
   ]
  },
  {
   "cell_type": "code",
   "execution_count": null,
   "id": "7ade9343",
   "metadata": {},
   "outputs": [],
   "source": [
    "prog = BlockingProgram(\n",
    "        keep_rules = [\n",
    "                KeepRule([\n",
    "                    BM25TopkPredicate('title', 'title', 'standard', 20), \n",
    "                ]),\n",
    "                KeepRule([\n",
    "                    BM25TopkPredicate('authors', 'authors', 'standard', 20), \n",
    "                ]),\n",
    "            ],\n",
    "        drop_rules = [\n",
    "            DropRule([\n",
    "                JaccardPredicate('title', 'title', QGramTokenizer(3), operator.lt, .3)\n",
    "            ]),\n",
    "              DropRule([\n",
    "                OverlapCoeffPredicate('authors', 'authors', AlphaNumericTokenizer(), operator.lt, .3)\n",
    "            ]),\n",
    "            DropRule([\n",
    "                ExactMatchPredicate('venue', 'venue', invert=True, lowercase=True),\n",
    "                ExactMatchPredicate('year', 'year', invert=True)\n",
    "            ])\n",
    "        ],\n",
    "    )\n",
    "\n",
    "execute_and_compute_stats(prog)"
   ]
  },
  {
   "cell_type": "markdown",
   "id": "de9493d5",
   "metadata": {},
   "source": [
    "## Blocking Program Validation\n",
    "\n",
    "In this section we will discuss blocking program validation, in particular the set of conditions that must be met for a blocking program to be valid and able to be executed. We break this down into the following sections,\n",
    "\n",
    "1. Indexable and Streamable `Predicates`\n",
    "2. `KeepRule` Validation\n",
    "3. `DropRule` Validation\n",
    "4. `BlockingProgram` Validation"
   ]
  },
  {
   "cell_type": "markdown",
   "id": "f940e583",
   "metadata": {},
   "source": [
    "### 1. Indexable and Streamable Predicates\n",
    "\n",
    "Predicates have two possible ways that they can be executed, either with an index or in a streaming fasion. To determine the way a predicate can be executed the `Predicate` base class provides two attributes, `indexable` and `streamable`. Where a predicate can be indexed if `pred.indexable == True` and a predicate can be streamed if `pred.streamable == True`. These attributes are essential for generating an effecient execution plan and are used to validate keep rules, drop rules, and blocking programs.\n",
    "\n",
    "Some predicates are both `streamable` and `indexable`."
   ]
  },
  {
   "cell_type": "code",
   "execution_count": null,
   "id": "589a3122",
   "metadata": {},
   "outputs": [],
   "source": [
    "pred = JaccardPredicate('title', 'title', QGramTokenizer(3), operator.ge, .4)\n",
    "print(f'{pred.streamable=}')\n",
    "print(f'{pred.indexable=}')"
   ]
  },
  {
   "cell_type": "markdown",
   "id": "2748b404",
   "metadata": {},
   "source": [
    "Others are only `indexable` (typically top-k based predicates)."
   ]
  },
  {
   "cell_type": "code",
   "execution_count": null,
   "id": "7c3656a2",
   "metadata": {},
   "outputs": [],
   "source": [
    "pred = BM25TopkPredicate('title', 'title', 'standard', 20) \n",
    "print(f'{pred.streamable=}')\n",
    "print(f'{pred.indexable=}')"
   ]
  },
  {
   "cell_type": "markdown",
   "id": "dd74b609",
   "metadata": {},
   "source": [
    "Some are only `streamable`. "
   ]
  },
  {
   "cell_type": "code",
   "execution_count": null,
   "id": "cd13db65",
   "metadata": {},
   "outputs": [],
   "source": [
    "pred = EditDistancePredicate('venue', 'venue', operator.gt, .8)\n",
    "print(f'{pred.streamable=}')\n",
    "print(f'{pred.indexable=}')"
   ]
  },
  {
   "cell_type": "markdown",
   "id": "67409bfa",
   "metadata": {},
   "source": [
    "Note that parameters to the predicate may determine if it is `indexable` or not. For example, `JaccardPredicate` is `indexable` only if the operator is `>=` or `>`."
   ]
  },
  {
   "cell_type": "code",
   "execution_count": null,
   "id": "1234310c",
   "metadata": {},
   "outputs": [],
   "source": [
    "pred = JaccardPredicate('title', 'title', QGramTokenizer(3), operator.le, .4)\n",
    "print(f'{pred.streamable=}')\n",
    "print(f'{pred.indexable=}')"
   ]
  },
  {
   "cell_type": "markdown",
   "id": "fe7c9f46",
   "metadata": {},
   "source": [
    "### 2. KeepRule Validation\n",
    "\n",
    "A `KeepRule` must satisfy the following criteria,\n",
    "1. Must contain at least one `indexable` `Predicate`"
   ]
  },
  {
   "cell_type": "code",
   "execution_count": null,
   "id": "2335f696",
   "metadata": {},
   "outputs": [],
   "source": [
    "rule = KeepRule([\n",
    "            BM25TopkPredicate('title', 'title', 'standard', 20),\n",
    "            EditDistancePredicate('venue', 'venue', operator.gt, .8)\n",
    "        ])\n",
    "# OK"
   ]
  },
  {
   "cell_type": "code",
   "execution_count": null,
   "id": "403ac684",
   "metadata": {},
   "outputs": [],
   "source": [
    "rule = KeepRule([\n",
    "            #BM25TopkPredicate('title', 'title', 'standard', 20),\n",
    "            EditDistancePredicate('venue', 'venue', operator.gt, .8)\n",
    "        ])\n",
    "# ERROR EditDistancePredicate is not indexable"
   ]
  },
  {
   "cell_type": "markdown",
   "id": "539929f1",
   "metadata": {},
   "source": [
    "### 3. DropRule Validation\n",
    "\n",
    "A `DropRule` must satisfy the following criteria,\n",
    "1. Must contain at least one `Predicate`\n",
    "2. All `Predicates` in the `DropRule` must be `streamable`"
   ]
  },
  {
   "cell_type": "code",
   "execution_count": null,
   "id": "39d53d5d",
   "metadata": {},
   "outputs": [],
   "source": [
    "rule = DropRule([\n",
    "        JaccardPredicate('title', 'title', QGramTokenizer(3), operator.le, .4)        \n",
    "    ])\n",
    "# OK"
   ]
  },
  {
   "cell_type": "code",
   "execution_count": null,
   "id": "eac7eaf4",
   "metadata": {},
   "outputs": [],
   "source": [
    "rule = DropRule([\n",
    "        BM25TopkPredicate('title', 'title', 'standard', 20),\n",
    "        JaccardPredicate('title', 'title', QGramTokenizer(3), operator.le, .4)        \n",
    "    ])\n",
    "# ERROR BM25TopkPredicate is not streamable"
   ]
  },
  {
   "cell_type": "code",
   "execution_count": null,
   "id": "2ccfef41",
   "metadata": {},
   "outputs": [],
   "source": [
    "rule = DropRule([ ])\n",
    "# ERROR empty drop rule"
   ]
  },
  {
   "cell_type": "markdown",
   "id": "eba7d21e",
   "metadata": {},
   "source": [
    "### 4. Blocking Program Validation\n",
    "\n",
    "A `BlockingProgram` must satisfy the following criteria,\n",
    "1. All `KeepRules` must be valid\n",
    "2. All `DropRules` must be valid\n",
    "3. Must contain at least one `KeepRule`"
   ]
  },
  {
   "cell_type": "code",
   "execution_count": null,
   "id": "6c4174a9",
   "metadata": {},
   "outputs": [],
   "source": [
    "prog = BlockingProgram(\n",
    "        keep_rules = [\n",
    "                KeepRule([\n",
    "                    BM25TopkPredicate('title', 'title', 'standard', 20), \n",
    "                ]),\n",
    "            ],\n",
    "        drop_rules = [\n",
    "            DropRule([\n",
    "                JaccardPredicate('title', 'title', QGramTokenizer(3), operator.le, .4)\n",
    "            ]),\n",
    "        ],\n",
    "    )\n",
    "# OK"
   ]
  },
  {
   "cell_type": "code",
   "execution_count": null,
   "id": "8639f14a",
   "metadata": {},
   "outputs": [],
   "source": [
    "prog = BlockingProgram(\n",
    "        keep_rules = [\n",
    "                KeepRule([\n",
    "                    BM25TopkPredicate('title', 'title', 'standard', 20), \n",
    "                ]),\n",
    "            ],\n",
    "        drop_rules = [\n",
    "        ],\n",
    "    )\n",
    "# OK don't need to provide drop_rules"
   ]
  },
  {
   "cell_type": "code",
   "execution_count": null,
   "id": "616cfdd4",
   "metadata": {},
   "outputs": [],
   "source": [
    "prog = BlockingProgram(\n",
    "        keep_rules = [],\n",
    "        drop_rules = [\n",
    "            DropRule([\n",
    "                JaccardPredicate('title', 'title', QGramTokenizer(3), operator.le, .4)\n",
    "            ]),\n",
    "        ],\n",
    "    )\n",
    "# ERROR must provide at least one KeepRule"
   ]
  }
 ],
 "metadata": {
  "kernelspec": {
   "display_name": "Python 3 (ipykernel)",
   "language": "python",
   "name": "python3"
  },
  "language_info": {
   "codemirror_mode": {
    "name": "ipython",
    "version": 3
   },
   "file_extension": ".py",
   "mimetype": "text/x-python",
   "name": "python",
   "nbconvert_exporter": "python",
   "pygments_lexer": "ipython3",
   "version": "3.10.12"
  }
 },
 "nbformat": 4,
 "nbformat_minor": 5
}
